{
 "cells": [
  {
   "cell_type": "markdown",
   "metadata": {},
   "source": [
    "# Autoencoders in PyTorch\n",
    "\n",
    "In this notebook, we'll build an autoencoder with PyTorch. I like autoencoders because they are a straightforward but interesting model to implement. It's a good first project when learning a new framework.\n",
    "\n",
    "Just as a reminder, autoencoders attempt to find a compressed representation for some dataset. The model does this by encoding the data into a smaller number of values, a compressed vector. During training, the vector is passed through a decoder which attempts to reconstruct the original data. The loss is then the mean squared error between the reconstruction and the original data.\n",
    "\n",
    "<img src=\"assets/autoencoder_1.png\">\n",
    "\n",
    "Here, we'll use PyTorch to build the encoder and decoder, then train up the network. You can read more about autoencoders and implementing them in TensorFlow [here]( https://github.com/udacity/deep-learning/tree/master/autoencoder)."
   ]
  },
  {
   "cell_type": "code",
   "execution_count": 1,
   "metadata": {
    "collapsed": true
   },
   "outputs": [],
   "source": [
    "%matplotlib inline\n",
    "%config InlineBackend.figure_format = 'retina'\n",
    "\n",
    "import time\n",
    "\n",
    "import numpy as np\n",
    "import matplotlib.pyplot as plt\n",
    "\n",
    "import torch\n",
    "from torch import nn\n",
    "from torch import optim\n",
    "import torch.nn.functional as F\n",
    "from torch.autograd import Variable\n",
    "from torchvision import datasets, transforms\n",
    "\n",
    "from helper import test_network, view_recon"
   ]
  },
  {
   "cell_type": "code",
   "execution_count": 2,
   "metadata": {
    "collapsed": true
   },
   "outputs": [],
   "source": [
    "# Get the data \n",
    "transform = transforms.Compose([transforms.ToTensor(),\n",
    "                              transforms.Normalize((0.5, 0.5, 0.5), (0.5, 0.5, 0.5)),\n",
    "                             ])\n",
    "trainset = datasets.MNIST('MNIST_data/', download=True, train=True, transform=transform)\n",
    "trainloader = torch.utils.data.DataLoader(trainset, batch_size=64, shuffle=True)\n",
    "\n",
    "testset = datasets.MNIST('MNIST_data/', download=True, train=False, transform=transform)\n",
    "testloader = torch.utils.data.DataLoader(testset, batch_size=64, shuffle=True)"
   ]
  },
  {
   "cell_type": "markdown",
   "metadata": {},
   "source": [
    "## Building the network\n",
    "\n",
    "Here we'll build the network for the autoencoder.\n",
    "\n",
    "Again, we start it by creating a class inheriting from `nn.Module`. The way I did this was splitting the forward pass into two methods, `encoder` and `decoder`. This is because after training, we will usually just want the encoded vector. In the `forward` method, we just connect the two.\n",
    "\n",
    "```python\n",
    "class Network(nn.Module):\n",
    "    def __init__(self):\n",
    "        super().__init__()\n",
    "        \n",
    "        # Define the layers and operations here\n",
    "        \n",
    "    def forward(self, x):\n",
    "        \n",
    "        x = self.encoder(x)\n",
    "        logits = self.decoder(x)\n",
    "        \n",
    "        return logits\n",
    "\n",
    "    def encoder(self, x):\n",
    "        # Forward pass through the encoder\n",
    "        return x\n",
    "    \n",
    "    def decoder(self, x):\n",
    "        # Forward pass through the decoder\n",
    "        return x\n",
    "```\n",
    "        \n",
    "### The Encoder\n",
    "\n",
    "For the encoder, we'll use convolutional layers with `nn.Conv2d`. You can use max-pooling for downsampling, with ``nn.MaxPool2d``, but I chose to leave it out since many people seem to be moving away from pooling and downsampling with strides instead. I also added dropout with the [`nn.Dropout2d`](http://pytorch.org/docs/nn.html#dropout2d) module. With the dropout module, you'll want to turn off dropout while you're infering, you can do that with `net.eval()`. To turn dropout back on, use `net.train()`. This also works for things like batch normalization.\n",
    "\n",
    "So, in the encoder forward pass, it would look something like \n",
    "\n",
    "```python\n",
    "x = self.drop(F.relu(self.conv1(x)))\n",
    "```\n",
    "\n",
    "with the convolutional layer, a ReLU activation, and dropout.\n",
    "\n",
    "Typically you'll start with the first convolutional layer as the deepest layer, then use shallower layers as you compress the representation. For instance, you could use three max-pool-convolution layers with depths 16, 8, and 8. If you downsample by two with each layer (use strides of two and \"same\" padding), you'll end up with a layer that is 8x4x4. Feel free to choose whatever depths you want, and however many layers you as well.\n",
    "\n",
    "### The decoder\n",
    "\n",
    "With the decoder, you'll need to upsample the layers. This can be done with transposed convolutions ([nn.ConvTranspose2d](http://pytorch.org/docs/nn.html#convtranspose2d)) or by nearest neighbor upsampling ([nn.UpsamplingNearest2d](http://pytorch.org/docs/nn.html#upsamplingnearest2d)). With transposed convolutions, you define the kernel size and strides like normal, but when you call the module, you can set an output size, like `self.upconv(x, output_size=(14,14))`. Similarly with nearest neighbor, you set the size of the output `self.upsample = nn.UpsamplingNearest2d(size=(14, 14))`.\n",
    "\n",
    "If you're using transposed convolutions, the forward pass would look like `x = self.drop(F.relu(self.upconv1(x, output_size=(7,7))))` to upsample to 7x7 layer, with a ReLU activation and dropout. Typically you'd upsample through a few layers, something like depths of 8,8, and 16. Then the output layer would be another convolutional layer with a depth of 1 to match the MNIST images. If you were working with color images like CIFAR or SVHN, you'd use a depth of 3.\n",
    "\n",
    "Which upsampling method you choose depends on a lot of factors. Distill [recently published](http://distill.pub/2016/deconv-checkerboard/) a good article about the differences. They show that transposed convolutional layers can sometimes result in checkerboard artifacts and nearest neighbor upsampling works better. But, I've found that transposed convolutions work great for this model. So, try out both methods if you're curious.\n",
    "\n",
    "If you need a refresher on building autoencoders with convolutions and upsampling, check out [this notebook](https://github.com/udacity/deep-learning/blob/master/autoencoder/Convolutional_Autoencoder_Solution.ipynb). And here [we used transposed convolutions](https://github.com/udacity/deep-learning/blob/master/dcgan-svhn/DCGAN.ipynb) to build the generator of a GAN."
   ]
  },
  {
   "cell_type": "code",
   "execution_count": null,
   "metadata": {
    "collapsed": true
   },
   "outputs": [],
   "source": [
    "class Network(nn.Module):\n",
    "    def __init__(self, drop_prob=0.5):\n",
    "        super().__init__()\n",
    "        # TODO: Add encoder operations here\n",
    "    \n",
    "        # TODO: Add decoder operations here\n",
    "        \n",
    "        self.drop = # TODO: add dropout\n",
    "    \n",
    "    def forward(self, x):\n",
    "        x = self.encode(x)\n",
    "        logits = self.decode(x)\n",
    "        \n",
    "        return logits\n",
    "\n",
    "    def encode(self, x):\n",
    "        ## TODO: Forward pass through the encoder\n",
    "        \n",
    "        return x\n",
    "        \n",
    "    def decode(self, x):\n",
    "        ## TODO: Forward pass through the encoder\n",
    "        \n",
    "        return x"
   ]
  },
  {
   "cell_type": "markdown",
   "metadata": {},
   "source": [
    "Test to make sure it works for one training pass, shouldn't get any errors here."
   ]
  },
  {
   "cell_type": "code",
   "execution_count": null,
   "metadata": {
    "collapsed": true
   },
   "outputs": [],
   "source": [
    "net = Network()\n",
    "test_network(net, trainloader)"
   ]
  },
  {
   "cell_type": "markdown",
   "metadata": {},
   "source": [
    "## Training the network\n",
    "\n",
    "Now we'll train the network. We're using the mean square error for the loss, so we'll use `criterion = nn.MSELoss()`. As before, we update the weights by doing a forward pass through the network, then calculate the loss, get the gradients with `loss.backward()`, then make an update step with `optimizer.step()` (with an Adam optimizer, `optim.Adam`)."
   ]
  },
  {
   "cell_type": "code",
   "execution_count": 7,
   "metadata": {},
   "outputs": [
    {
     "name": "stdout",
     "output_type": "stream",
     "text": [
      "Epoch: 1/10.. Loss: 0.3009.. Test loss: 0.1327.. 0.0094 s/batch\n",
      "Epoch: 1/10.. Loss: 0.0883.. Test loss: 0.0598.. 0.0093 s/batch\n",
      "Epoch: 1/10.. Loss: 0.0512.. Test loss: 0.0417.. 0.0093 s/batch\n",
      "Epoch: 1/10.. Loss: 0.0388.. Test loss: 0.0335.. 0.0093 s/batch\n",
      "Epoch: 2/10.. Loss: 0.0322.. Test loss: 0.0291.. 0.0029 s/batch\n"
     ]
    },
    {
     "data": {
      "image/png": "[encoded data removed]",
      "text/plain": [
       "<matplotlib.figure.Figure at 0x7f252c7d0828>"
      ]
     },
     "metadata": {
      "image/png": {
       "height": 184,
       "width": 370
      }
     },
     "output_type": "display_data"
    },
    {
     "name": "stdout",
     "output_type": "stream",
     "text": [
      "Epoch: 2/10.. Loss: 0.0284.. Test loss: 0.0282.. 0.0105 s/batch\n",
      "Epoch: 2/10.. Loss: 0.0258.. Test loss: 0.0241.. 0.0093 s/batch\n",
      "Epoch: 2/10.. Loss: 0.0241.. Test loss: 0.0232.. 0.0093 s/batch\n",
      "Epoch: 2/10.. Loss: 0.0226.. Test loss: 0.0212.. 0.0093 s/batch\n",
      "Epoch: 3/10.. Loss: 0.0211.. Test loss: 0.0196.. 0.0058 s/batch\n"
     ]
    },
    {
     "data": {
      "image/png": "[encoded data removed]",
      "text/plain": [
       "<matplotlib.figure.Figure at 0x7f2520162940>"
      ]
     },
     "metadata": {
      "image/png": {
       "height": 184,
       "width": 370
      }
     },
     "output_type": "display_data"
    },
    {
     "name": "stdout",
     "output_type": "stream",
     "text": [
      "Epoch: 3/10.. Loss: 0.0204.. Test loss: 0.0195.. 0.0105 s/batch\n",
      "Epoch: 3/10.. Loss: 0.0198.. Test loss: 0.0190.. 0.0093 s/batch\n",
      "Epoch: 3/10.. Loss: 0.0190.. Test loss: 0.0190.. 0.0094 s/batch\n",
      "Epoch: 3/10.. Loss: 0.0184.. Test loss: 0.0185.. 0.0094 s/batch\n",
      "Epoch: 4/10.. Loss: 0.0180.. Test loss: 0.0169.. 0.0087 s/batch\n"
     ]
    },
    {
     "data": {
      "image/png": "[encoded data removed]",
      "text/plain": [
       "<matplotlib.figure.Figure at 0x7f2519069e48>"
      ]
     },
     "metadata": {
      "image/png": {
       "height": 184,
       "width": 370
      }
     },
     "output_type": "display_data"
    },
    {
     "name": "stdout",
     "output_type": "stream",
     "text": [
      "Epoch: 4/10.. Loss: 0.0171.. Test loss: 0.0169.. 0.0105 s/batch\n",
      "Epoch: 4/10.. Loss: 0.0168.. Test loss: 0.0158.. 0.0094 s/batch\n",
      "Epoch: 4/10.. Loss: 0.0166.. Test loss: 0.0159.. 0.0094 s/batch\n",
      "Epoch: 5/10.. Loss: 0.0162.. Test loss: 0.0151.. 0.0022 s/batch\n",
      "Epoch: 5/10.. Loss: 0.0158.. Test loss: 0.0156.. 0.0094 s/batch\n"
     ]
    },
    {
     "data": {
      "image/png": "[encoded data removed]",
      "text/plain": [
       "<matplotlib.figure.Figure at 0x7f2518fada58>"
      ]
     },
     "metadata": {
      "image/png": {
       "height": 184,
       "width": 370
      }
     },
     "output_type": "display_data"
    },
    {
     "name": "stdout",
     "output_type": "stream",
     "text": [
      "Epoch: 5/10.. Loss: 0.0156.. Test loss: 0.0161.. 0.0105 s/batch\n",
      "Epoch: 5/10.. Loss: 0.0149.. Test loss: 0.0142.. 0.0093 s/batch\n",
      "Epoch: 5/10.. Loss: 0.0148.. Test loss: 0.0147.. 0.0093 s/batch\n",
      "Epoch: 6/10.. Loss: 0.0147.. Test loss: 0.0138.. 0.0051 s/batch\n",
      "Epoch: 6/10.. Loss: 0.0142.. Test loss: 0.0140.. 0.0093 s/batch\n"
     ]
    },
    {
     "data": {
      "image/png": "[encoded data removed]",
      "text/plain": [
       "<matplotlib.figure.Figure at 0x7f2518eefb00>"
      ]
     },
     "metadata": {
      "image/png": {
       "height": 184,
       "width": 370
      }
     },
     "output_type": "display_data"
    },
    {
     "name": "stdout",
     "output_type": "stream",
     "text": [
      "Epoch: 6/10.. Loss: 0.0141.. Test loss: 0.0134.. 0.0107 s/batch\n",
      "Epoch: 6/10.. Loss: 0.0139.. Test loss: 0.0136.. 0.0094 s/batch\n",
      "Epoch: 6/10.. Loss: 0.0137.. Test loss: 0.0135.. 0.0093 s/batch\n",
      "Epoch: 7/10.. Loss: 0.0136.. Test loss: 0.0136.. 0.0080 s/batch\n",
      "Epoch: 7/10.. Loss: 0.0131.. Test loss: 0.0126.. 0.0093 s/batch\n"
     ]
    },
    {
     "data": {
      "image/png": "[encoded data removed]",
      "text/plain": [
       "<matplotlib.figure.Figure at 0x7f2518e65470>"
      ]
     },
     "metadata": {
      "image/png": {
       "height": 184,
       "width": 370
      }
     },
     "output_type": "display_data"
    },
    {
     "name": "stdout",
     "output_type": "stream",
     "text": [
      "Epoch: 7/10.. Loss: 0.0131.. Test loss: 0.0125.. 0.0105 s/batch\n",
      "Epoch: 7/10.. Loss: 0.0132.. Test loss: 0.0139.. 0.0093 s/batch\n",
      "Epoch: 8/10.. Loss: 0.0129.. Test loss: 0.0121.. 0.0016 s/batch\n",
      "Epoch: 8/10.. Loss: 0.0126.. Test loss: 0.0122.. 0.0093 s/batch\n",
      "Epoch: 8/10.. Loss: 0.0126.. Test loss: 0.0117.. 0.0093 s/batch\n"
     ]
    },
    {
     "data": {
      "image/png": "[encoded data removed]",
      "text/plain": [
       "<matplotlib.figure.Figure at 0x7f2518ff45f8>"
      ]
     },
     "metadata": {
      "image/png": {
       "height": 184,
       "width": 370
      }
     },
     "output_type": "display_data"
    },
    {
     "name": "stdout",
     "output_type": "stream",
     "text": [
      "Epoch: 8/10.. Loss: 0.0125.. Test loss: 0.0120.. 0.0105 s/batch\n",
      "Epoch: 8/10.. Loss: 0.0123.. Test loss: 0.0117.. 0.0094 s/batch\n",
      "Epoch: 9/10.. Loss: 0.0121.. Test loss: 0.0117.. 0.0045 s/batch\n",
      "Epoch: 9/10.. Loss: 0.0120.. Test loss: 0.0132.. 0.0093 s/batch\n",
      "Epoch: 9/10.. Loss: 0.0118.. Test loss: 0.0119.. 0.0093 s/batch\n"
     ]
    },
    {
     "data": {
      "image/png": "[encoded data removed]",
      "text/plain": [
       "<matplotlib.figure.Figure at 0x7f25200bf9b0>"
      ]
     },
     "metadata": {
      "image/png": {
       "height": 184,
       "width": 370
      }
     },
     "output_type": "display_data"
    },
    {
     "name": "stdout",
     "output_type": "stream",
     "text": [
      "Epoch: 9/10.. Loss: 0.0118.. Test loss: 0.0113.. 0.0105 s/batch\n",
      "Epoch: 9/10.. Loss: 0.0118.. Test loss: 0.0111.. 0.0093 s/batch\n",
      "Epoch: 10/10.. Loss: 0.0116.. Test loss: 0.0117.. 0.0074 s/batch\n",
      "Epoch: 10/10.. Loss: 0.0115.. Test loss: 0.0110.. 0.0093 s/batch\n",
      "Epoch: 10/10.. Loss: 0.0115.. Test loss: 0.0107.. 0.0093 s/batch\n"
     ]
    },
    {
     "data": {
      "image/png": "[encoded data removed]",
      "text/plain": [
       "<matplotlib.figure.Figure at 0x7f2518f21780>"
      ]
     },
     "metadata": {
      "image/png": {
       "height": 184,
       "width": 370
      }
     },
     "output_type": "display_data"
    },
    {
     "name": "stdout",
     "output_type": "stream",
     "text": [
      "Epoch: 10/10.. Loss: 0.0114.. Test loss: 0.0110.. 0.0105 s/batch\n"
     ]
    }
   ],
   "source": [
    "net = Network(drop_prob=0.0)\n",
    "\n",
    "criterion = nn.MSELoss()\n",
    "optimizer = optim.Adam(net.parameters(), lr=0.001)\n",
    "epochs = 10\n",
    "print_every = 200  # Number of training steps to print losses\n",
    "show_every = 1000  # Number of training steps to show reconstructions\n",
    "cuda = True        # Train on GPU or not\n",
    "\n",
    "if cuda:\n",
    "    net.cuda()\n",
    "\n",
    "steps = 0\n",
    "running_loss = 0\n",
    "for e in range(epochs):\n",
    "    start = time.time()\n",
    "    for images, labels in iter(trainloader):\n",
    "        steps += 1\n",
    "\n",
    "        inputs = Variable(images)\n",
    "        targets = Variable(images)\n",
    "        \n",
    "        if cuda:\n",
    "            inputs, targets = inputs.cuda(), targets.cuda()\n",
    "        \n",
    "        optimizer.zero_grad()\n",
    "        \n",
    "        output = net.forward(inputs)\n",
    "        loss = criterion(output, targets)\n",
    "        loss.backward()\n",
    "        optimizer.step()\n",
    "        \n",
    "        running_loss += loss.data[0]\n",
    "        \n",
    "        if steps % print_every == 0:\n",
    "            net.eval()\n",
    "            stop = time.time()\n",
    "            # Test accuracy\n",
    "            val_loss = 0\n",
    "            for ii, (images, labels) in enumerate(testloader):\n",
    "                \n",
    "                #images = images.resize_(images.size()[0], 784)\n",
    "                inputs = Variable(images, volatile=True)\n",
    "                targets = Variable(images, volatile=True)\n",
    "                if cuda:\n",
    "                    inputs, targets = inputs.cuda(), targets.cuda()\n",
    "                \n",
    "                output = net.forward(inputs)\n",
    "                val_loss += criterion(output, targets).data[0]\n",
    "                \n",
    "            print(\"Epoch: {}/{}..\".format(e+1, epochs),\n",
    "                  \"Loss: {:.4f}..\".format(running_loss/print_every),\n",
    "                  \"Test loss: {:.4f}..\".format(val_loss/(ii+1)),\n",
    "                  \"{:.4f} s/batch\".format((stop - start)/print_every)\n",
    "                 )\n",
    "            \n",
    "            running_loss = 0\n",
    "            start = time.time()\n",
    "            net.train()\n",
    "              \n",
    "        if steps % show_every == 0:\n",
    "            net.cpu()\n",
    "            net.eval()\n",
    "            img = images[3]\n",
    "            x = Variable(img.resize_(1, *img.size()), volatile=True)\n",
    "            recon = net(x)\n",
    "            \n",
    "            view_recon(img, recon)\n",
    "            plt.show()\n",
    "            if cuda:\n",
    "                net.cuda()\n",
    "            net.train()"
   ]
  },
  {
   "cell_type": "markdown",
   "metadata": {},
   "source": [
    "## Encoding images\n",
    "\n",
    "Now that the network is trained, let's encode an image and check out the vector representation."
   ]
  },
  {
   "cell_type": "code",
   "execution_count": 23,
   "metadata": {
    "collapsed": true
   },
   "outputs": [],
   "source": [
    "net.cpu()\n",
    "dataiter = iter(trainloader)\n",
    "images, labels = dataiter.next()"
   ]
  },
  {
   "cell_type": "code",
   "execution_count": 65,
   "metadata": {
    "collapsed": true
   },
   "outputs": [],
   "source": [
    "img = images[3]\n",
    "# Need to resize the single image to add a fourth dimension\n",
    "x = Variable(img.resize_(1, *img.size()), volatile=True)\n",
    "comp = net.encode(x)"
   ]
  },
  {
   "cell_type": "code",
   "execution_count": 53,
   "metadata": {},
   "outputs": [
    {
     "data": {
      "text/plain": [
       "<matplotlib.image.AxesImage at 0x7fa7964d4710>"
      ]
     },
     "execution_count": 53,
     "metadata": {},
     "output_type": "execute_result"
    },
    {
     "data": {
      "image/png": "[encoded data removed]",
      "text/plain": [
       "<matplotlib.figure.Figure at 0x7fa7965459e8>"
      ]
     },
     "metadata": {
      "image/png": {
       "height": 200,
       "width": 364
      }
     },
     "output_type": "display_data"
    }
   ],
   "source": [
    "comp_arr = comp.data.numpy().squeeze()\n",
    "comp_arr = comp_arr.reshape((8, 16))\n",
    "plt.imshow(comp_arr, cmap='Reds')"
   ]
  }
 ],
 "metadata": {
  "kernelspec": {
   "display_name": "Python 3",
   "language": "python",
   "name": "python3"
  },
  "language_info": {
   "codemirror_mode": {
    "name": "ipython",
    "version": 3
   },
   "file_extension": ".py",
   "mimetype": "text/x-python",
   "name": "python",
   "nbconvert_exporter": "python",
   "pygments_lexer": "ipython3",
   "version": "3.6.1"
  }
 },
 "nbformat": 4,
 "nbformat_minor": 2
}
